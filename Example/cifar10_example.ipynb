{
 "cells": [
  {
   "cell_type": "markdown",
   "metadata": {},
   "source": [
    "# Wasserstein Globalness Example\n",
    "\n",
    "This notebook loads a number of sample explanations from CIFAR10 and calculates Wasserstein Globalness on the explanations."
   ]
  },
  {
   "cell_type": "code",
   "execution_count": 8,
   "metadata": {},
   "outputs": [],
   "source": [
    "import os\n",
    "import sys\n",
    "\n",
    "import numpy as np\n",
    "import pandas as pd\n",
    "import pickle\n",
    "\n",
    "import matplotlib.pyplot as plt\n",
    "import seaborn as sns\n",
    "sns.set_theme()\n",
    "\n",
    "sys.path.append('../')\n",
    "\n",
    "def load_dict(path):\n",
    "    with open(path, 'rb') as handle:\n",
    "        dictionary = pickle.load(handle)\n",
    "    return dictionary\n",
    "\n",
    "\n",
    "def merge_dict(dict_list):\n",
    "    '''\n",
    "    merges a list of dictionaries into a single dictionary\n",
    "    '''\n",
    "    output = {}\n",
    "    for d in dict_list:\n",
    "        for k, v in d.items():  \n",
    "            output.setdefault(k, []).append(v)\n",
    "    return output"
   ]
  },
  {
   "cell_type": "markdown",
   "metadata": {},
   "source": [
    "## Load saved CIFAR10 samples"
   ]
  },
  {
   "cell_type": "code",
   "execution_count": 4,
   "metadata": {},
   "outputs": [],
   "source": [
    "\n",
    "samples = load_dict('./samples/cifar10_samples_0.pkl')"
   ]
  },
  {
   "cell_type": "markdown",
   "metadata": {},
   "source": [
    "## Load saved sample explanations\n",
    "\n",
    "Sample explanations are generated using SmoothGrad applied to a Resnet18 model. We calculate explanations for $\\sigma \\in \\{100, 10, 1, 0.1, 0.01, 0\\}$, where $\\sigma$ represents the smoothing parameter in SmoothGrad."
   ]
  },
  {
   "cell_type": "code",
   "execution_count": 5,
   "metadata": {},
   "outputs": [
    {
     "name": "stdout",
     "output_type": "stream",
     "text": [
      "dict_keys([100.0, 10.0, 1.0, 0.1, 0.01, 0.0, 'test_images', 'test_labels'])\n"
     ]
    }
   ],
   "source": [
    "sigma_list = [100, 10, 1, 0.1, 0.01, 0]\n",
    "sigma_list = list(map(float, sigma_list))\n",
    "exp = {}\n",
    "for sigma in sigma_list:\n",
    "    exp[sigma] = load_dict('./samples/cifar10_smoothgrad_%s_0.pkl' % str(sigma))\n",
    "\n",
    "\n",
    "tmp = [exp, samples]\n",
    "output_dict = merge_dict(tmp)\n",
    "print(output_dict.keys())"
   ]
  },
  {
   "cell_type": "markdown",
   "metadata": {},
   "source": [
    "Calculate Wasserstein Globalness values for the sample explanations"
   ]
  },
  {
   "cell_type": "code",
   "execution_count": 13,
   "metadata": {},
   "outputs": [
    {
     "name": "stdout",
     "output_type": "stream",
     "text": [
      "$\\sigma$ 100: 0.9804279710103189\n",
      "$\\sigma$ 10: 0.9803831638893189\n",
      "$\\sigma$ 1: 0.9569426544963487\n",
      "$\\sigma$ 0.1: 0.7681273049491278\n",
      "$\\sigma$ 0.01: 0.7091159546892561\n",
      "$\\sigma$ 0: 0.7003042706571309\n"
     ]
    }
   ],
   "source": [
    "from utils.locality_utilities import wasserstein_globalness\n",
    "n_unif = 10000 # number of uniform samples used to approximate U_\\mathcal{E}\n",
    "n_projections = 500 # number of projections for Sliced Wasserstein Distance solver\n",
    "l2_bound = 47.402 # radius k of U_\\mathcal{E}\n",
    "\n",
    "for std in [100, 10, 1, 0.1, 0.01, 0]:\n",
    "    exps = output_dict[std][0]['explanations']\n",
    "    glob = wasserstein_globalness(exps, n_unif=n_unif,l2_bound = l2_bound, n_projections = n_projections)\n",
    "    print(r'Sigma %s: %s' % (str(std), str(glob)))"
   ]
  }
 ],
 "metadata": {
  "kernelspec": {
   "display_name": "wsl1",
   "language": "python",
   "name": "python3"
  },
  "language_info": {
   "codemirror_mode": {
    "name": "ipython",
    "version": 3
   },
   "file_extension": ".py",
   "mimetype": "text/x-python",
   "name": "python",
   "nbconvert_exporter": "python",
   "pygments_lexer": "ipython3",
   "version": "3.8.13"
  },
  "orig_nbformat": 4
 },
 "nbformat": 4,
 "nbformat_minor": 2
}
